{
  "nbformat": 4,
  "nbformat_minor": 0,
  "metadata": {
    "colab": {
      "name": "FakeNewsDetection.ipynb",
      "version": "0.3.2",
      "provenance": []
    },
    "kernelspec": {
      "name": "python3",
      "display_name": "Python 3"
    }
  },
  "cells": [
    {
      "metadata": {
        "id": "ny5AvstHVrql",
        "colab_type": "code",
        "colab": {
          "base_uri": "https://localhost:8080/",
          "height": 834
        },
        "outputId": "3f11cfff-6d1c-43c9-9ca7-f144e333aeeb"
      },
      "cell_type": "code",
      "source": [
        "import sys\n",
        "!{sys.executable} -m pip install gensim\n",
        "!{sys.executable} -m pip install nltk\n",
        "from gensim.models.doc2vec import Doc2Vec, TaggedDocument\n",
        "from nltk.tokenize import word_tokenize\n",
        "import nltk\n",
        "nltk.download('punkt')\n",
        "import numpy as np\n",
        "import re\n",
        "import pandas as pd\n",
        "import gensim\n",
        "from collections import namedtuple\n",
        "from keras import models\n",
        "from keras import layers"
      ],
      "execution_count": 1,
      "outputs": [
        {
          "output_type": "stream",
          "text": [
            "Collecting gensim\n",
            "\u001b[?25l  Downloading https://files.pythonhosted.org/packages/27/a4/d10c0acc8528d838cda5eede0ee9c784caa598dbf40bd0911ff8d067a7eb/gensim-3.6.0-cp36-cp36m-manylinux1_x86_64.whl (23.6MB)\n",
            "\u001b[K    100% |████████████████████████████████| 23.6MB 1.5MB/s \n",
            "\u001b[?25hRequirement already satisfied: six>=1.5.0 in /usr/local/lib/python3.6/dist-packages (from gensim) (1.11.0)\n",
            "Collecting smart-open>=1.2.1 (from gensim)\n",
            "  Downloading https://files.pythonhosted.org/packages/4b/1f/6f27e3682124de63ac97a0a5876da6186de6c19410feab66c1543afab055/smart_open-1.7.1.tar.gz\n",
            "Requirement already satisfied: numpy>=1.11.3 in /usr/local/lib/python3.6/dist-packages (from gensim) (1.14.6)\n",
            "Requirement already satisfied: scipy>=0.18.1 in /usr/local/lib/python3.6/dist-packages (from gensim) (0.19.1)\n",
            "Collecting boto>=2.32 (from smart-open>=1.2.1->gensim)\n",
            "\u001b[?25l  Downloading https://files.pythonhosted.org/packages/23/10/c0b78c27298029e4454a472a1919bde20cb182dab1662cec7f2ca1dcc523/boto-2.49.0-py2.py3-none-any.whl (1.4MB)\n",
            "\u001b[K    100% |████████████████████████████████| 1.4MB 14.6MB/s \n",
            "\u001b[?25hCollecting bz2file (from smart-open>=1.2.1->gensim)\n",
            "  Downloading https://files.pythonhosted.org/packages/61/39/122222b5e85cd41c391b68a99ee296584b2a2d1d233e7ee32b4532384f2d/bz2file-0.98.tar.gz\n",
            "Requirement already satisfied: requests in /usr/local/lib/python3.6/dist-packages (from smart-open>=1.2.1->gensim) (2.18.4)\n",
            "Collecting boto3 (from smart-open>=1.2.1->gensim)\n",
            "\u001b[?25l  Downloading https://files.pythonhosted.org/packages/7e/3d/3e12ef93cec154981a7e0f22e5a6da8f7a31bc2383f3d9934f3d1279e0a0/boto3-1.9.16-py2.py3-none-any.whl (128kB)\n",
            "\u001b[K    100% |████████████████████████████████| 133kB 16.5MB/s \n",
            "\u001b[?25hRequirement already satisfied: certifi>=2017.4.17 in /usr/local/lib/python3.6/dist-packages (from requests->smart-open>=1.2.1->gensim) (2018.8.24)\n",
            "Requirement already satisfied: chardet<3.1.0,>=3.0.2 in /usr/local/lib/python3.6/dist-packages (from requests->smart-open>=1.2.1->gensim) (3.0.4)\n",
            "Requirement already satisfied: urllib3<1.23,>=1.21.1 in /usr/local/lib/python3.6/dist-packages (from requests->smart-open>=1.2.1->gensim) (1.22)\n",
            "Requirement already satisfied: idna<2.7,>=2.5 in /usr/local/lib/python3.6/dist-packages (from requests->smart-open>=1.2.1->gensim) (2.6)\n",
            "Collecting jmespath<1.0.0,>=0.7.1 (from boto3->smart-open>=1.2.1->gensim)\n",
            "  Downloading https://files.pythonhosted.org/packages/b7/31/05c8d001f7f87f0f07289a5fc0fc3832e9a57f2dbd4d3b0fee70e0d51365/jmespath-0.9.3-py2.py3-none-any.whl\n",
            "Collecting s3transfer<0.2.0,>=0.1.10 (from boto3->smart-open>=1.2.1->gensim)\n",
            "\u001b[?25l  Downloading https://files.pythonhosted.org/packages/d7/14/2a0004d487464d120c9fb85313a75cd3d71a7506955be458eebfe19a6b1d/s3transfer-0.1.13-py2.py3-none-any.whl (59kB)\n",
            "\u001b[K    100% |████████████████████████████████| 61kB 22.8MB/s \n",
            "\u001b[?25hCollecting botocore<1.13.0,>=1.12.16 (from boto3->smart-open>=1.2.1->gensim)\n",
            "\u001b[?25l  Downloading https://files.pythonhosted.org/packages/87/28/f24899d31a4c0da5e9c0c70a481503633f7b1e94c0671398546bc2241400/botocore-1.12.16-py2.py3-none-any.whl (4.7MB)\n",
            "\u001b[K    100% |████████████████████████████████| 4.7MB 5.1MB/s \n",
            "\u001b[?25hRequirement already satisfied: python-dateutil<3.0.0,>=2.1; python_version >= \"2.7\" in /usr/local/lib/python3.6/dist-packages (from botocore<1.13.0,>=1.12.16->boto3->smart-open>=1.2.1->gensim) (2.5.3)\n",
            "Collecting docutils>=0.10 (from botocore<1.13.0,>=1.12.16->boto3->smart-open>=1.2.1->gensim)\n",
            "\u001b[?25l  Downloading https://files.pythonhosted.org/packages/36/fa/08e9e6e0e3cbd1d362c3bbee8d01d0aedb2155c4ac112b19ef3cae8eed8d/docutils-0.14-py3-none-any.whl (543kB)\n",
            "\u001b[K    100% |████████████████████████████████| 552kB 26.1MB/s \n",
            "\u001b[?25hBuilding wheels for collected packages: smart-open, bz2file\n",
            "  Running setup.py bdist_wheel for smart-open ... \u001b[?25l-\b \b\\\b \bdone\n",
            "\u001b[?25h  Stored in directory: /root/.cache/pip/wheels/23/00/44/e5b939f7a80c04e32297dbd6d96fa3065af89ecf57e2b5f89f\n",
            "  Running setup.py bdist_wheel for bz2file ... \u001b[?25l-\b \bdone\n",
            "\u001b[?25h  Stored in directory: /root/.cache/pip/wheels/81/75/d6/e1317bf09bf1af5a30befc2a007869fa6e1f516b8f7c591cb9\n",
            "Successfully built smart-open bz2file\n",
            "Installing collected packages: boto, bz2file, jmespath, docutils, botocore, s3transfer, boto3, smart-open, gensim\n",
            "Successfully installed boto-2.49.0 boto3-1.9.16 botocore-1.12.16 bz2file-0.98 docutils-0.14 gensim-3.6.0 jmespath-0.9.3 s3transfer-0.1.13 smart-open-1.7.1\n",
            "Requirement already satisfied: nltk in /usr/local/lib/python3.6/dist-packages (3.2.5)\n",
            "Requirement already satisfied: six in /usr/local/lib/python3.6/dist-packages (from nltk) (1.11.0)\n",
            "[nltk_data] Downloading package punkt to /root/nltk_data...\n",
            "[nltk_data]   Unzipping tokenizers/punkt.zip.\n"
          ],
          "name": "stdout"
        },
        {
          "output_type": "stream",
          "text": [
            "Using TensorFlow backend.\n"
          ],
          "name": "stderr"
        }
      ]
    },
    {
      "metadata": {
        "id": "aD8c5CC9W89U",
        "colab_type": "code",
        "colab": {
          "base_uri": "https://localhost:8080/",
          "height": 52
        },
        "outputId": "e3382fe9-9f71-473c-8823-fadd74265376"
      },
      "cell_type": "code",
      "source": [
        "import io\n",
        "import requests\n",
        "url1=\"https://drive.google.com/uc?export=download&id=1TjmolGwsUQK0OQ143E_gkksZ6CQU9_aK\"\n",
        "url2=\"https://drive.google.com/uc?export=download&id=1WcvgkDWyL4vY9jfvh5bm1zSpCNFxyOOW\"\n",
        "print(\"Starting Download\")\n",
        "s1=requests.get(url1).content\n",
        "s2=requests.get(url2).content\n",
        "fileTRAIN=pd.read_csv(io.StringIO(s2.decode('utf-8')))\n",
        "fileTEST=pd.read_csv(io.StringIO(s1.decode('utf-8')))\n",
        "print(\"Finished\")"
      ],
      "execution_count": 2,
      "outputs": [
        {
          "output_type": "stream",
          "text": [
            "Starting Download\n",
            "Finished\n"
          ],
          "name": "stdout"
        }
      ]
    },
    {
      "metadata": {
        "id": "3hCQEBdzfPVr",
        "colab_type": "code",
        "colab": {
          "base_uri": "https://localhost:8080/",
          "height": 204
        },
        "outputId": "bc789b5f-2472-445d-db93-bfefdb9f7afe"
      },
      "cell_type": "code",
      "source": [
        "fileTRAIN.head()"
      ],
      "execution_count": 10,
      "outputs": [
        {
          "output_type": "execute_result",
          "data": {
            "text/html": [
              "<div>\n",
              "<style scoped>\n",
              "    .dataframe tbody tr th:only-of-type {\n",
              "        vertical-align: middle;\n",
              "    }\n",
              "\n",
              "    .dataframe tbody tr th {\n",
              "        vertical-align: top;\n",
              "    }\n",
              "\n",
              "    .dataframe thead th {\n",
              "        text-align: right;\n",
              "    }\n",
              "</style>\n",
              "<table border=\"1\" class=\"dataframe\">\n",
              "  <thead>\n",
              "    <tr style=\"text-align: right;\">\n",
              "      <th></th>\n",
              "      <th>id</th>\n",
              "      <th>title</th>\n",
              "      <th>author</th>\n",
              "      <th>text</th>\n",
              "      <th>label</th>\n",
              "    </tr>\n",
              "  </thead>\n",
              "  <tbody>\n",
              "    <tr>\n",
              "      <th>0</th>\n",
              "      <td>0</td>\n",
              "      <td>House Dem Aide: We Didn’t Even See Comey’s Let...</td>\n",
              "      <td>Darrell Lucus</td>\n",
              "      <td>House Dem Aide: We Didn’t Even See Comey’s Let...</td>\n",
              "      <td>1</td>\n",
              "    </tr>\n",
              "    <tr>\n",
              "      <th>1</th>\n",
              "      <td>1</td>\n",
              "      <td>FLYNN: Hillary Clinton, Big Woman on Campus - ...</td>\n",
              "      <td>Daniel J. Flynn</td>\n",
              "      <td>Ever get the feeling your life circles the rou...</td>\n",
              "      <td>0</td>\n",
              "    </tr>\n",
              "    <tr>\n",
              "      <th>2</th>\n",
              "      <td>2</td>\n",
              "      <td>Why the Truth Might Get You Fired</td>\n",
              "      <td>Consortiumnews.com</td>\n",
              "      <td>Why the Truth Might Get You Fired October 29, ...</td>\n",
              "      <td>1</td>\n",
              "    </tr>\n",
              "    <tr>\n",
              "      <th>3</th>\n",
              "      <td>3</td>\n",
              "      <td>15 Civilians Killed In Single US Airstrike Hav...</td>\n",
              "      <td>Jessica Purkiss</td>\n",
              "      <td>Videos 15 Civilians Killed In Single US Airstr...</td>\n",
              "      <td>1</td>\n",
              "    </tr>\n",
              "    <tr>\n",
              "      <th>4</th>\n",
              "      <td>4</td>\n",
              "      <td>Iranian woman jailed for fictional unpublished...</td>\n",
              "      <td>Howard Portnoy</td>\n",
              "      <td>Print \\nAn Iranian woman has been sentenced to...</td>\n",
              "      <td>1</td>\n",
              "    </tr>\n",
              "  </tbody>\n",
              "</table>\n",
              "</div>"
            ],
            "text/plain": [
              "   id                                              title              author  \\\n",
              "0   0  House Dem Aide: We Didn’t Even See Comey’s Let...       Darrell Lucus   \n",
              "1   1  FLYNN: Hillary Clinton, Big Woman on Campus - ...     Daniel J. Flynn   \n",
              "2   2                  Why the Truth Might Get You Fired  Consortiumnews.com   \n",
              "3   3  15 Civilians Killed In Single US Airstrike Hav...     Jessica Purkiss   \n",
              "4   4  Iranian woman jailed for fictional unpublished...      Howard Portnoy   \n",
              "\n",
              "                                                text  label  \n",
              "0  House Dem Aide: We Didn’t Even See Comey’s Let...      1  \n",
              "1  Ever get the feeling your life circles the rou...      0  \n",
              "2  Why the Truth Might Get You Fired October 29, ...      1  \n",
              "3  Videos 15 Civilians Killed In Single US Airstr...      1  \n",
              "4  Print \\nAn Iranian woman has been sentenced to...      1  "
            ]
          },
          "metadata": {
            "tags": []
          },
          "execution_count": 10
        }
      ]
    },
    {
      "metadata": {
        "id": "D8PYbWnafwq5",
        "colab_type": "code",
        "colab": {}
      },
      "cell_type": "code",
      "source": [
        "d2vmodeltextdata = fileTRAIN['text'].values"
      ],
      "execution_count": 0,
      "outputs": []
    },
    {
      "metadata": {
        "id": "E3szP1-QhybY",
        "colab_type": "code",
        "colab": {}
      },
      "cell_type": "code",
      "source": [
        "appenddata = fileTEST['text'].values\n",
        "alltextdata = np.concatenate((d2vmodeltextdata,appenddata))"
      ],
      "execution_count": 0,
      "outputs": []
    },
    {
      "metadata": {
        "id": "C-idb2yGigsg",
        "colab_type": "code",
        "colab": {
          "base_uri": "https://localhost:8080/",
          "height": 156
        },
        "outputId": "450ed2e3-fcc9-4d84-96aa-31436ec8cc9c"
      },
      "cell_type": "code",
      "source": [
        "print(alltextdata)"
      ],
      "execution_count": 16,
      "outputs": [
        {
          "output_type": "stream",
          "text": [
            "['House Dem Aide: We Didn’t Even See Comey’s Letter Until Jason Chaffetz Tweeted It By Darrell Lucus on October 30, 2016 Subscribe Jason Chaffetz on the stump in American Fork, Utah ( image courtesy Michael Jolley, available under a Creative Commons-BY license) \\nWith apologies to Keith Olbermann, there is no doubt who the Worst Person in The World is this week–FBI Director James Comey. But according to a House Democratic aide, it looks like we also know who the second-worst person is as well. It turns out that when Comey sent his now-infamous letter announcing that the FBI was looking into emails that may be related to Hillary Clinton’s email server, the ranking Democrats on the relevant committees didn’t hear about it from Comey. They found out via a tweet from one of the Republican committee chairmen. \\nAs we now know, Comey notified the Republican chairmen and Democratic ranking members of the House Intelligence, Judiciary, and Oversight committees that his agency was reviewing emails it had recently discovered in order to see if they contained classified information. Not long after this letter went out, Oversight Committee Chairman Jason Chaffetz set the political world ablaze with this tweet. FBI Dir just informed me, \"The FBI has learned of the existence of emails that appear to be pertinent to the investigation.\" Case reopened \\n— Jason Chaffetz (@jasoninthehouse) October 28, 2016 \\nOf course, we now know that this was not the case . Comey was actually saying that it was reviewing the emails in light of “an unrelated case”–which we now know to be Anthony Weiner’s sexting with a teenager. But apparently such little things as facts didn’t matter to Chaffetz. The Utah Republican had already vowed to initiate a raft of investigations if Hillary wins–at least two years’ worth, and possibly an entire term’s worth of them. Apparently Chaffetz thought the FBI was already doing his work for him–resulting in a tweet that briefly roiled the nation before cooler heads realized it was a dud. \\nBut according to a senior House Democratic aide, misreading that letter may have been the least of Chaffetz’ sins. That aide told Shareblue that his boss and other Democrats didn’t even know about Comey’s letter at the time–and only found out when they checked Twitter. “Democratic Ranking Members on the relevant committees didn’t receive Comey’s letter until after the Republican Chairmen. In fact, the Democratic Ranking Members didn’ receive it until after the Chairman of the Oversight and Government Reform Committee, Jason Chaffetz, tweeted it out and made it public.” \\nSo let’s see if we’ve got this right. The FBI director tells Chaffetz and other GOP committee chairmen about a major development in a potentially politically explosive investigation, and neither Chaffetz nor his other colleagues had the courtesy to let their Democratic counterparts know about it. Instead, according to this aide, he made them find out about it on Twitter. \\nThere has already been talk on Daily Kos that Comey himself provided advance notice of this letter to Chaffetz and other Republicans, giving them time to turn on the spin machine. That may make for good theater, but there is nothing so far that even suggests this is the case. After all, there is nothing so far that suggests that Comey was anything other than grossly incompetent and tone-deaf. \\nWhat it does suggest, however, is that Chaffetz is acting in a way that makes Dan Burton and Darrell Issa look like models of responsibility and bipartisanship. He didn’t even have the decency to notify ranking member Elijah Cummings about something this explosive. If that doesn’t trample on basic standards of fairness, I don’t know what does. \\nGranted, it’s not likely that Chaffetz will have to answer for this. He sits in a ridiculously Republican district anchored in Provo and Orem; it has a Cook Partisan Voting Index of R+25, and gave Mitt Romney a punishing 78 percent of the vote in 2012. Moreover, the Republican House leadership has given its full support to Chaffetz’ planned fishing expedition. But that doesn’t mean we can’t turn the hot lights on him. After all, he is a textbook example of what the House has become under Republican control. And he is also the Second Worst Person in the World. About Darrell Lucus \\nDarrell is a 30-something graduate of the University of North Carolina who considers himself a journalist of the old school. An attempt to turn him into a member of the religious right in college only succeeded in turning him into the religious right\\'s worst nightmare--a charismatic Christian who is an unapologetic liberal. His desire to stand up for those who have been scared into silence only increased when he survived an abusive three-year marriage. You may know him on Daily Kos as Christian Dem in NC . Follow him on Twitter @DarrellLucus or connect with him on Facebook . Click here to buy Darrell a Mello Yello. Connect'\n",
            " 'Ever get the feeling your life circles the roundabout rather than heads in a straight line toward the intended destination? [Hillary Clinton remains the big woman on campus in leafy, liberal Wellesley, Massachusetts. Everywhere else votes her most likely to don her inauguration dress for the remainder of her days the way Miss Havisham forever wore that wedding dress.  Speaking of Great Expectations, Hillary Rodham overflowed with them 48 years ago when she first addressed a Wellesley graduating class. The president of the college informed those gathered in 1969 that the students needed “no debate so far as I could ascertain as to who their spokesman was to be” (kind of the like the Democratic primaries in 2016 minus the   terms unknown then even at a Seven Sisters school). “I am very glad that Miss Adams made it clear that what I am speaking for today is all of us —  the 400 of us,” Miss Rodham told her classmates. After appointing herself Edger Bergen to the Charlie McCarthys and Mortimer Snerds in attendance, the    bespectacled in granny glasses (awarding her matronly wisdom —  or at least John Lennon wisdom) took issue with the previous speaker. Despite becoming the first   to win election to a seat in the U. S. Senate since Reconstruction, Edward Brooke came in for criticism for calling for “empathy” for the goals of protestors as he criticized tactics. Though Clinton in her senior thesis on Saul Alinsky lamented “Black Power demagogues” and “elitist arrogance and repressive intolerance” within the New Left, similar words coming out of a Republican necessitated a brief rebuttal. “Trust,” Rodham ironically observed in 1969, “this is one word that when I asked the class at our rehearsal what it was they wanted me to say for them, everyone came up to me and said ‘Talk about trust, talk about the lack of trust both for us and the way we feel about others. Talk about the trust bust.’ What can you say about it? What can you say about a feeling that permeates a generation and that perhaps is not even understood by those who are distrusted?” The “trust bust” certainly busted Clinton’s 2016 plans. She certainly did not even understand that people distrusted her. After Whitewater, Travelgate, the vast   conspiracy, Benghazi, and the missing emails, Clinton found herself the distrusted voice on Friday. There was a load of compromising on the road to the broadening of her political horizons. And distrust from the American people —  Trump edged her 48 percent to 38 percent on the question immediately prior to November’s election —  stood as a major reason for the closing of those horizons. Clinton described her vanquisher and his supporters as embracing a “lie,” a “con,” “alternative facts,” and “a   assault on truth and reason. ” She failed to explain why the American people chose his lies over her truth. “As the history majors among you here today know all too well, when people in power invent their own facts and attack those who question them, it can mark the beginning of the end of a free society,” she offered. “That is not hyperbole. ” Like so many people to emerge from the 1960s, Hillary Clinton embarked upon a long, strange trip. From high school Goldwater Girl and Wellesley College Republican president to Democratic politician, Clinton drank in the times and the place that gave her a degree. More significantly, she went from idealist to cynic, as a comparison of her two Wellesley commencement addresses show. Way back when, she lamented that “for too long our leaders have viewed politics as the art of the possible, and the challenge now is to practice politics as the art of making what appears to be impossible possible. ” Now, as the big woman on campus but the odd woman out of the White House, she wonders how her current station is even possible. “Why aren’t I 50 points ahead?” she asked in September. In May she asks why she isn’t president. The woman famously dubbed a “congenital liar” by Bill Safire concludes that lies did her in —  theirs, mind you, not hers. Getting stood up on Election Day, like finding yourself the jilted bride on your wedding day, inspires dangerous delusions.'\n",
            " 'Why the Truth Might Get You Fired October 29, 2016 \\nThe tension between intelligence analysts and political policymakers has always been between honest assessments and desired results, with the latter often overwhelming the former, as in the Iraq War, writes Lawrence Davidson. \\nBy Lawrence Davidson \\nFor those who might wonder why foreign policy makers repeatedly make bad choices, some insight might be drawn from the following analysis. The action here plays out in the United States, but the lessons are probably universal. \\nBack in the early spring of 2003, George W. Bush initiated the invasion of Iraq. One of his key public reasons for doing so was the claim that the country’s dictator, Saddam Hussein, was on the verge of developing nuclear weapons and was hiding other weapons of mass destruction. The real reason went beyond that charge and included a long-range plan for “regime change” in the Middle East. President George W. Bush and Vice President Dick Cheney receive an Oval Office briefing from CIA Director George Tenet. Also present is Chief of Staff Andy Card (on right). (White House photo) \\nFor our purposes, we will concentrate on the belief that Iraq was about to become a hostile nuclear power. Why did President Bush and his close associates accept this scenario so readily? \\nThe short answer is Bush wanted, indeed needed, to believe it as a rationale for invading Iraq. At first he had tried to connect Saddam Hussein to the 9/11 attacks on the U.S. Though he never gave up on that stratagem, the lack of evidence made it difficult to rally an American people, already fixated on Afghanistan, to support a war against Baghdad. \\nBut the nuclear weapons gambit proved more fruitful, not because there was any hard evidence for the charge, but because supposedly reliable witnesses, in the persons of exiled anti-Saddam Iraqis (many on the U.S. government’s payroll ), kept telling Bush and his advisers that the nuclear story was true. \\nWhat we had was a U.S. leadership cadre whose worldview literally demanded a mortally dangerous Iraq, and informants who, in order to precipitate the overthrow of Saddam, were willing to tell the tale of pending atomic weapons. The strong desire to believe the tale of a nuclear Iraq lowered the threshold for proof . Likewise, the repeated assertions by assumed dependable Iraqi sources underpinned a nationwide U.S. campaign generating both fear and war fever. \\nSo the U.S. and its allies insisted that the United Nations send in weapons inspectors to scour Iraq for evidence of a nuclear weapons program (as well as chemical and biological weapons). That the inspectors could find no convincing evidence only frustrated the Bush administration and soon forced its hand. \\nOn March 19, 2003, Bush launched the invasion of Iraq with the expectation was that, once in occupation of the country, U.S. inspectors would surely find evidence of those nukes (or at least stockpiles of chemical and biological weapons). They did not. Their Iraqi informants had systematically lied to them. \\nSocial and Behavioral Sciences to the Rescue? \\nThe various U.S. intelligence agencies were thoroughly shaken by this affair, and today, 13 years later, their directors and managers are still trying to sort it out – specifically, how to tell when they are getting “true” intelligence and when they are being lied to. Or, as one intelligence worker has put it, we need “ help to protect us against armies of snake oil salesmen. ” To that end the CIA et al. are in the market for academic assistance. Ahmed Chalabi, head of the Iraqi National Congress, a key supplier of Iraqi defectors with bogus stories of hidden WMD. \\nA “partnership” is being forged between the Office of the Director of National Intelligence (ODNI), which serves as the coordinating center for the sixteen independent U.S. intelligence agencies, and the National Academies of Sciences, Engineering and Medicine . The result of this collaboration will be a “ permanent Intelligence Community Studies Board” to coordinate programs in “social and behavioral science research [that] might strengthen national security .” \\nDespite this effort, it is almost certain that the “social and behavioral sciences” cannot give the spy agencies what they want – a way of detecting lies that is better than their present standard procedures of polygraph tests and interrogations. But even if they could, it might well make no difference, because the real problem is not to be found with the liars. It is to be found with the believers. \\nThe Believers \\nIt is simply not true, as the ODNI leaders seem to assert, that U.S. intelligence agency personnel cannot tell, more often than not, that they are being lied to. This is the case because there are thousands of middle-echelon intelligence workers, desk officers, and specialists who know something closely approaching the truth – that is, they know pretty well what is going on in places like Afghanistan, Iraq, Syria, Libya, Israel, Palestine and elsewhere. Director of National Intelligence James Clapper (right) talks with President Barack Obama in the Oval Office, with John Brennan and other national security aides present. (Photo credit: Office of Director of National Intelligence) \\nTherefore, if someone feeds them “snake oil,” they usually know it. However, having an accurate grasp of things is often to no avail because their superiors – those who got their appointments by accepting a pre-structured worldview – have different criterion for what is “true” than do the analysts. \\nListen to Charles Gaukel, of the National Intelligence Council – yet another organization that acts as a meeting ground for the 16 intelligence agencies. Referring to the search for a way to avoid getting taken in by lies, Gaukel has declared, “ We’re looking for truth. But we’re particularly looking for truth that works. ” Now what might that mean? \\nI can certainly tell you what it means historically. It means that for the power brokers, “truth” must match up, fit with, their worldview – their political and ideological precepts. If it does not fit, it does not “work.” So the intelligence specialists who send their usually accurate assessments up the line to the policy makers often hit a roadblock caused by “group think,” ideological blinkers, and a “we know better” attitude. \\nOn the other hand, as long as what you’re selling the leadership matches up with what they want to believe, you can peddle them anything: imaginary Iraqi nukes, Israel as a Western-style democracy, Saudi Arabia as an indispensable ally, Libya as a liberated country, Bashar al-Assad as the real roadblock to peace in Syria, the Strategic Defense Initiative (SDI) aka Star Wars, a world that is getting colder and not warmer, American exceptionalism in all its glory – the list is almost endless. \\nWhat does this sad tale tell us? If you want to spend millions of dollars on social and behavioral science research to improve the assessment and use of intelligence, forget about the liars. What you want to look for is an antidote to the narrow-mindedness of the believers – the policymakers who seem not to be able to rise above the ideological presumptions of their class – presumptions that underpin their self-confidence as they lead us all down slippery slopes. \\nIt has happened this way so often, and in so many places, that it is the source of Shakespeare’s determination that “what is past, is prelude.” Our elites play out our destinies as if they have no free will – no capacity to break with structured ways of seeing. Yet the middle-echelon specialists keep sending their relatively accurate assessments up the ladder of power. Hope springs eternal.'\n",
            " ...\n",
            " 'Good morning. (Want to get California Today by email? Here’s the  .) JoAnna Klein, a science writer, brings us today’s introduction. Earlier this month, the scientific journal Conservation Biology published a study that found that nearly half of the fish sampled at roughly 10 percent of Los Angeles sushi restaurants were not what they were purported to be on menus. In many cases fish were substituted with cheaper, more environmentally sustainable catches. But in some instances, replacement fish were actually endangered or threatened. Halibut and red snapper were found to be the most frequently misidentified. Between 2012 and 2014, researchers from the University of California, Los Angeles and Loyola Marymount University sent their students to 26 Los Angeles restaurants with various price points and high ratings on Yelp and Zagat. Their mission was simple: Order dishes containing each of nine targeted fish that are common on menus and often mislabeled confirm with the restaurant that the fish was what the menu said it was collect a piece of sushi about the size of a kernel of corn drop it in a labeled jar of ethanol and take it back to the lab for DNA analysis. Knowing rates of mislabeled fish is important, the authors say, because it threatens consumer health. It also threatens a marine ecosystem and the billion dollar fishing industry that depends on it. But studies in the past have been inconsistent in terms of seafood mislabeling rates. “We wanted to see why there is that huge level of variation,” said Demian Willette, a biologist who helped lead the study. So they did the same thing at the same place each year for four years. The students collected more than 350 samples over all. In every restaurant, there was at least one case of mislabeled fish. But the researchers say you can’t blame the restaurant in every case. Like their diners, and even their grocers, the restaurants were most likely victims of fish fraud. For consumers going forward, Mr. Willette suggested asking your waiter directly what you’re ordering. The Monterey Bay Aquarium’s Seafood Watch also offers resources and a phone app to help  . (Please note: We regularly highlight articles on news sites that have limited access for nonsubscribers.) • Are we at “peak millennial?” Why cities can’t assume more young people will live there. [The New York Times] • Gov. Jerry Brown declared a state of emergency after recent severe flooding. [Los Angeles Times] • California Republicans are demanding audits and hearings over the bullet train project. [San Francisco Chronicle] • President Trump’s abandoning of the   Partnership could leave Central Valley farmers hurting. [Fresno Bee] • Charlie Liteky, who received the Medal of Honor then later returned it in protest, died in San Francisco. He was 85. [The New York Times] • Lawyers are pushing an unexpected theory of how the Oakland warehouse fire started. [East Bay Times] • A proposal to ban the display of Vietnam’s flag on city poles has divided San Jose’s Vietnamese community. [The Mercury News] • Investors announced a plan to bring a Major League Soccer team to San Diego. [The Associated Press] •   are trying to commercialize A. I. music for everything from jingles to pop hits. [The New York Times] • Beyoncé’s mother resides in a home atop the Hollywood Hills surrounded by black contemporary art. [The New York Times] • Videos: How some Californians had fun during the weekend flooding. [Orange County Register] Under cover of darkness, a woman vandalized a mosque in Davis early Sunday. Caught on surveillance video, she draped bacon on a door handle and broke half a dozen window panes at the Islamic Center of Davis. Pork is forbidden under Islamic dietary laws. A hate crime inquiry was opened by the authorities in Davis, a college town known more for its   culture and farmers’ markets. Throughout the day Monday,   dropped by the mosque with flowers and messages of support. An online campaign raised nearly $20, 000 for repairs. Lynsie Mason, 23, a nearby resident, walked over with a box of doughnuts and a card. Mosque leaders said hate incidents were rare. Ahmed Ali, a postdoc in civil engineering at U. C. Davis, said he was less rattled by the vandalism than perplexed. “The motivation is unknown. Why?” he said. “I mean if she wants to steal something, that’s fine. She might be in need. ” He paused and then added, “It’s just hate. ” Before he was a photographer, Michael Zagaris was a law school dropout in the 1960s. He started dropping acid and hanging out at the Fillmore music club in San Francisco with a notion that he would write a book. Armed with a tape recorder and a camera, he interviewed the musicians who performed there. It was Eric Clapton who suggested to Mr. Zagaris that he should try to sell his pictures. And that’s the moment he found his calling  —   photographing rock ’n’ roll. As luck had it, San Francisco was assuming a central place in rock history at the time. Looking back, Mr. Zagaris said in an interview, “I was in Europe for the Renaissance. ” Late last year, he put out a new photography book, “Total Excess,” with images of the Rolling Stones, Led Zeppelin, the Grateful Dead, Lou Reed, the Clash and others at the height of their fame in the 1970s. He shared a selection below: California Today goes live at 6 a. m. Pacific time weekdays. Tell us what you want to see: CAtoday@nytimes. com. The California Today columnist, Mike McPhate, is a   Californian  —   born outside Sacramento and raised in San Juan Capistrano. He lives in Davis. Follow him on Twitter. California Today is edited by Julie Bloom, who grew up in Los Angeles and attended U. C. Berkeley.'\n",
            " \"« Previous - Next » 300 US Marines To Be Deployed To Russian Border In Norway \\nIt has long been a controversy for the United States often getting involved in affairs that shouldn't necessarily involve them. Many other countries believe that the United State is nothing more warmongers who lust for more power and authority over the many weaker countries throughout the world, hence the history of unwarranted wars that have taken place throughout. \\nSome of these range from the Vietnam War, which was shown to have been a basis that never existed in the Gulf of Tonkin event. Another infamous event includes the idea to invade Iraq, which included the destruction of many innocent people, but did not assist in any way for any other country. It created more hatred however. Troops From US May Open Up Shop In Norway \\nDespite all this, it is now being believed that US troops may be joining their NATO ally in Norway by stationing troops in the country of Norway. It is expected to involve over 300 marines going to Norway. This is troubling as it is the first time foreign troops have come to the country, since the devastating events of World War ll. Could this possibly be a preparation for World War lll, if the United States is coming to a country that is near Russia? \\nIt could affect Norway as the Defense Minister has expressed serious concern regarding the Russian military, which has continued to flex its muscles through the takeover of many smaller countries with mere ease. Norway has come under some fire about the decision to involve the United States as some believe this is not a good signal to show to someone that opposes them as it looks like they are welcoming the idea of a war . \\nSome also believe that Norway should try to defend itself by reinforcing its own army rather than involving the United States troops to give them a helping hand. Some also believe that it makes them look rather weak if they are instantly calling upon their strongest ally in the United States to help them as soon as they start to have a fear of a certain situation. \\nWhat remains unknown is what may develop upon stationing these troops. Is World War lll on the cusp of existence with the strategic and sudden move by Norway? Hopefully not, because this could easily be as devastating as all of the other wars combined, given the advancement of fighting techniques. \\nThis article (300 US Marines To Be Deployed To Russian Border In Norway) is free and open source. You have permission to republish this article under a Creative Commons license with full attribution and a link to the original source on Disclose.tv Related Articles\"\n",
            " 'Perhaps you’ve seen the new TV series whose pilot episode begins this way: A man and a woman are having sex, but something soon goes awry, and the whole production wraps up on an ungainly, awkward note. If you’re having trouble naming the show, it’s because there isn’t just one that commences this way. The   awkward sex scene has become a staple of the modern television series opener. And while it can seem like merely a (now hackneyed) storytelling device, its prevalence may also reflect recent tectonic shifts in heterosexual politics. First, a rundown of some examples (with a tip of the hat to Benjamin R. Cohen, a professor in engineering at Lafayette College, who alerted me to the trend): In “Love,” we are treated to no fewer than three sex scenes within the first six minutes, the most dramatically significant one being the male protagonist having stiff, monotonous sex with his aloof girlfriend, both of them still wearing tops, as he asks her to move in with him. (She says yes a month later, in their next scene together, she breaks up with him.) In “Togetherness” (canceled by HBO after its second season) the male lead attempts to initiate   sex with his wife. When rebuffed, he begins masturbating, hoping she won’t notice. She does, and kicks him out of bed, but not before asking him to take the baby monitor with him. “Master of None” opens with a   accident during a   stand. The two characters end up doing an online search for the risk of impregnation from   fluid (and, in learning about it, he admits that he masturbated before going out that night). The two leads of “Broad City” are having a   conversation on their laptops it is later revealed that Ilana has been having sex with a guy during their talk while Abby has been engaged in a “scheduled” masturbation session. Some of this litany has to do with the medium. As an   narrative strategy, depicting sex (erotically or not, à deux or solo) invariably succeeds. Comedy, for which all of the shows in question aim, doesn’t play well with dim lighting, sultry music and simultaneous orgasms. Furthermore, TV writers, especially those in mostly   premium cable and streaming TV, are undoubtedly eager to push the envelope of frank realism in a less puritanical era. Yet, perhaps, a bigger engine for the proliferation of awkward sex scenes is the change occurring in the contemporary bedroom. Compare the aforementioned shows to how “Sex and the City” began in 1998, with Carrie’s   relating the tale of a seemingly storybook romance (replete with “wonderful” sex, filmed in moonlight with silhouetted figures) that, inevitably, crumbles because of yet another noncommittal “toxic bachelor. ” In Carrie’s first sex scene, she is gratified by cunnilingus before turning down a request for fellatio and skedaddling off to work. The mood is not one of unease or embarrassment, but empowerment through role reversal. “I’d done it,” she proudly tells the viewer. “I’d just had sex like a man. ” The   show “made big headway” when it came to women “talking about their sex lives in a public forum,” said Sarah Heyward, a   on “Girls. ” “If the public is forced to get more O. K. with women talking graphically about their sex lives, inevitably on TV we’ll see women being more aggressive and being the initiator. ” “Sex and the City” not only paved the way for onscreen representation of women with more sexual agency, but also underscored a sea change in how both genders approach love and lust behind closed doors. After the “Broad City” scene ends, the guy in bed (Hannibal Buress) asks: “What are we? Are we just having sex, hooking up, dating? What is this?” “This is   …     purely physical,” Ilana says. “Why does this always happen to me?” he wonders aloud. Two decades ago, it’s doubtful a male character would have uttered such a lament on television unless it was played for straight laughs. On “Broad City,” though, it reads as a sign of the times: A woman can have sex “like a man,” as per Carrie’s declaration, and a man can express emotions as vulnerably as women have historically done. While this progressive movement toward equality ideally results in more satisfying romantic lives for all parties, television has mined the oftentimes vexed and perplexing renegotiations of status for humorous material. Consider an example from the pilot episode of “Girls” (which doesn’t open the show but takes place a demure 15 minutes in). The elusive and carnally adventurous Adam instructs Hannah to hold a physically uncomfortable sexual position. What follows is a superb comic scene pitting Hannah’s verbally open vulnerability and desire to please  —   up to a point  —   in conflict with Adam’s inarticulate desire that is unconcerned with her needs. The end result is a dampening of arousal for both parties. To a degree, theirs is a   pairing: the laconic, detached Adam, one of Carrie’s “toxic bachelors,” with the garrulous, needy Hannah. (In subsequent episodes, Hannah plays the role of the initiator more frequently, often to amusing results.) And, obviously, moments just like this took place in real life before the sexual revolution they just couldn’t have been shown on TV. Yet they were likely far less commonplace than now, and the particulars of their arrangement would have been very different (for starters, back then,   Adam and Hannah would have more realistically been married, not having exploratory casual sex). Gus, the nerdy male protagonist of “Love,” is closer to Mr. Buress’s character on “Broad City” than he is to Adam, and he struggles with the problems presented by his own inclination to   romance. “The show is trying to explore the limits of being sensitive,” said Paul Rust, who plays Gus (and is the   of the series with his wife, Lesley Arfin). “Maybe during sex is not the best time to ask if you want to move in together. That might not necessarily be a   in bed. It’s pragmatic dirty talk. ” “Love” seems to posit that behind the genial, meek facade of the domesticated millennial guy lurks the atavistic anger and repressed hostility of the male animal. “What am I?” Gus demands of his girlfriend as they fight during their breakup. “Am I too nice? Am I too mean?” She yells back: “You’re not nice! You’re   which is worse than being mean. ” Gus’s erratic navigation between the Scylla and Charybdis of domineering   and emasculated   behavior  —   the former no longer as socially acceptable as it used to be, the latter still not doing one many favors even on Tinder, let alone at a bar  —   constitutes much of the show’s subtext (and comedy). “You can do this, Gus,” he tells himself in a bathroom mirror, trying to psych himself up before approaching a girl at a party. “You’re the man. You’re   …     like a man. You’re close to being a man. ” “I’m sure it’s confusing for men: ‘Be like Don Draper, but also be this nice guy,’” said Daley Haggar, who has written for sitcoms like “The Big Bang Theory” and “Anger Management. ” Jon Hamm’s character on “Mad Men” may have been one of the more attractive leading men on TV to female viewers in recent memory, but Ms. Haggar pointed out that much of his conduct would be considered   or inappropriate in the 21st century. “Women fantasize about Don, but they don’t want an actual Don,” she said. “He’s cold and mildly sociopathic and he cheats. What they want is Jon Hamm dressed up in a suit doing a sort of cosplay of a ’50s stoic guy and being dominant. What he does, you’d be arrested for now. ” Moreover, she added,   intercourse with a figure like Don probably wasn’t all it’s cracked up to be on the show. “I don’t know that there were great orgasms with Don Draper,” she said. Mr. Rust looked to a different decade, the 1970s, as a bridge between the eras portrayed by “Mad Men” and the current crop of shows, and noted a possible subconscious influence in opening “Love” with an anticlimactic sex scene. His favorite film, 1975’s “Shampoo,” begins with Warren Beatty’s Lothario hairdresser having sex as another woman interrupts with a phone call. Watching it for the first time was a revelation. “There was a relief for me: ‘Oh, man, even Warren Beatty can have awkward sex,’” he recalled. His acting turn may have similar repercussions for today’s young men exploring their own sensitive sides, including those who may appear at first glance not to have any. “I was at an A. T. M. a couple weeks ago, and a    dude walked up to me,” Mr. Rust said. “He   me and said, ‘Dude, thanks for the vulnerability. ’”']\n"
          ],
          "name": "stdout"
        }
      ]
    },
    {
      "metadata": {
        "id": "3V2gjbCujGEb",
        "colab_type": "code",
        "colab": {
          "base_uri": "https://localhost:8080/",
          "height": 34
        },
        "outputId": "238caf85-6a38-444e-f011-c34cdcc236ac"
      },
      "cell_type": "code",
      "source": [
        "alltextdatalist = alltextdata.tolist()"
      ],
      "execution_count": 29,
      "outputs": [
        {
          "output_type": "execute_result",
          "data": {
            "text/plain": [
              "str"
            ]
          },
          "metadata": {
            "tags": []
          },
          "execution_count": 29
        }
      ]
    },
    {
      "metadata": {
        "id": "lUAIm3sn_U_Z",
        "colab_type": "code",
        "colab": {}
      },
      "cell_type": "code",
      "source": [
        "#now used saved model here dont rerun all the above shit"
      ],
      "execution_count": 0,
      "outputs": []
    },
    {
      "metadata": {
        "id": "ERtqD70tjil2",
        "colab_type": "code",
        "colab": {
          "base_uri": "https://localhost:8080/",
          "height": 462
        },
        "outputId": "625e8ba8-46de-488f-f285-f83d1bbfc5d9"
      },
      "cell_type": "code",
      "source": [
        "tagged_data = [TaggedDocument(words=word_tokenize(str(_d).lower()), tags=[str(i)]) for i, _d in enumerate(alltextdata)]\n",
        "max_epochs = 20\n",
        "vec_size = 100\n",
        "alpha = 0.025\n",
        "model = Doc2Vec(size=vec_size,\n",
        "                alpha=alpha, \n",
        "                min_alpha=0.00025,\n",
        "                min_count=1,\n",
        "                dm =1)\n",
        "model.build_vocab(tagged_data)\n",
        "for epoch in range(max_epochs):\n",
        "    print('iteration {0}'.format(epoch))\n",
        "    model.train(tagged_data,\n",
        "                total_examples=model.corpus_count,\n",
        "                epochs=model.iter)\n",
        "    model.alpha -= 0.0002\n",
        "    model.min_alpha = model.alpha\n",
        "\n",
        "model.save(\"d2v.model\")\n",
        "print(\"Model Saved\")"
      ],
      "execution_count": 34,
      "outputs": [
        {
          "output_type": "stream",
          "text": [
            "/usr/local/lib/python3.6/dist-packages/gensim/models/doc2vec.py:570: UserWarning: The parameter `size` is deprecated, will be removed in 4.0.0, use `vector_size` instead.\n",
            "  warnings.warn(\"The parameter `size` is deprecated, will be removed in 4.0.0, use `vector_size` instead.\")\n"
          ],
          "name": "stderr"
        },
        {
          "output_type": "stream",
          "text": [
            "iteration 0\n"
          ],
          "name": "stdout"
        },
        {
          "output_type": "stream",
          "text": [
            "/usr/local/lib/python3.6/dist-packages/ipykernel_launcher.py:15: DeprecationWarning: Call to deprecated `iter` (Attribute will be removed in 4.0.0, use self.epochs instead).\n",
            "  from ipykernel import kernelapp as app\n"
          ],
          "name": "stderr"
        },
        {
          "output_type": "stream",
          "text": [
            "iteration 1\n",
            "iteration 2\n",
            "iteration 3\n",
            "iteration 4\n",
            "iteration 5\n",
            "iteration 6\n",
            "iteration 7\n",
            "iteration 8\n",
            "iteration 9\n",
            "iteration 10\n",
            "iteration 11\n",
            "iteration 12\n",
            "iteration 13\n",
            "iteration 14\n",
            "iteration 15\n",
            "iteration 16\n",
            "iteration 17\n",
            "iteration 18\n",
            "iteration 19\n",
            "Model Saved\n"
          ],
          "name": "stdout"
        }
      ]
    },
    {
      "metadata": {
        "id": "Z1psxYwDBzbf",
        "colab_type": "code",
        "colab": {
          "base_uri": "https://localhost:8080/",
          "height": 445
        },
        "outputId": "f28f79b8-1d9d-451c-cff1-e73c88bdeabc"
      },
      "cell_type": "code",
      "source": [
        "d2vmodeltitledata = fileTRAIN['title'].values\n",
        "appendtitledata = fileTEST['title'].values\n",
        "alltitledata = np.concatenate((d2vmodeltitledata,appendtitledata))\n",
        "alltitledatalist = alltitledata.tolist()\n",
        "tagged_data = [TaggedDocument(words=word_tokenize(str(_d).lower()), tags=[str(i)]) for i, _d in enumerate(alltitledata)]\n",
        "max_epochs = 20\n",
        "vec_size = 25\n",
        "alpha = 0.025\n",
        "model = Doc2Vec(size=vec_size,\n",
        "                alpha=alpha, \n",
        "                min_alpha=0.00025,\n",
        "                min_count=1,\n",
        "                dm =1)\n",
        "model.build_vocab(tagged_data)\n",
        "for epoch in range(max_epochs):\n",
        "    print('iteration {0}'.format(epoch))\n",
        "    model.train(tagged_data,\n",
        "                total_examples=model.corpus_count,\n",
        "                epochs=model.iter)\n",
        "    model.alpha -= 0.0002\n",
        "    model.min_alpha = model.alpha\n",
        "\n",
        "model.save(\"d2vfortitle25dim.model\")\n",
        "print(\"Model Saved\")"
      ],
      "execution_count": 10,
      "outputs": [
        {
          "output_type": "stream",
          "text": [
            "/usr/local/lib/python3.6/dist-packages/gensim/models/doc2vec.py:570: UserWarning: The parameter `size` is deprecated, will be removed in 4.0.0, use `vector_size` instead.\n",
            "  warnings.warn(\"The parameter `size` is deprecated, will be removed in 4.0.0, use `vector_size` instead.\")\n"
          ],
          "name": "stderr"
        },
        {
          "output_type": "stream",
          "text": [
            "iteration 0\n"
          ],
          "name": "stdout"
        },
        {
          "output_type": "stream",
          "text": [
            "/usr/local/lib/python3.6/dist-packages/ipykernel_launcher.py:19: DeprecationWarning: Call to deprecated `iter` (Attribute will be removed in 4.0.0, use self.epochs instead).\n"
          ],
          "name": "stderr"
        },
        {
          "output_type": "stream",
          "text": [
            "iteration 1\n",
            "iteration 2\n",
            "iteration 3\n",
            "iteration 4\n",
            "iteration 5\n",
            "iteration 6\n",
            "iteration 7\n",
            "iteration 8\n",
            "iteration 9\n",
            "iteration 10\n",
            "iteration 11\n",
            "iteration 12\n",
            "iteration 13\n",
            "iteration 14\n",
            "iteration 15\n",
            "iteration 16\n",
            "iteration 17\n",
            "iteration 18\n",
            "iteration 19\n",
            "Model Saved\n"
          ],
          "name": "stdout"
        }
      ]
    },
    {
      "metadata": {
        "id": "LF05woKHSI4b",
        "colab_type": "code",
        "colab": {
          "base_uri": "https://localhost:8080/",
          "height": 445
        },
        "outputId": "9f02bd8c-0dfc-4a67-e9df-b5e1b9e20021"
      },
      "cell_type": "code",
      "source": [
        "d2vmodelauthordata = fileTRAIN['author'].values\n",
        "appendauthordata = fileTEST['author'].values\n",
        "alltitledata = np.concatenate((d2vmodelauthordata,appendauthordata))\n",
        "tagged_data = [TaggedDocument(words=word_tokenize(str(_d).lower()), tags=[str(i)]) for i, _d in enumerate(alltitledata)]\n",
        "max_epochs = 20\n",
        "vec_size = 25\n",
        "alpha = 0.025\n",
        "model = Doc2Vec(size=vec_size,\n",
        "                alpha=alpha, \n",
        "                min_alpha=0.00025,\n",
        "                min_count=1,\n",
        "                dm =1)\n",
        "model.build_vocab(tagged_data)\n",
        "for epoch in range(max_epochs):\n",
        "    print('iteration {0}'.format(epoch))\n",
        "    model.train(tagged_data,\n",
        "                total_examples=model.corpus_count,\n",
        "                epochs=model.iter)\n",
        "    model.alpha -= 0.0002\n",
        "    model.min_alpha = model.alpha\n",
        "\n",
        "model.save(\"d2vforauthor25dim.model\")\n",
        "print(\"Model Saved\")"
      ],
      "execution_count": 21,
      "outputs": [
        {
          "output_type": "stream",
          "text": [
            "/usr/local/lib/python3.6/dist-packages/gensim/models/doc2vec.py:570: UserWarning: The parameter `size` is deprecated, will be removed in 4.0.0, use `vector_size` instead.\n",
            "  warnings.warn(\"The parameter `size` is deprecated, will be removed in 4.0.0, use `vector_size` instead.\")\n"
          ],
          "name": "stderr"
        },
        {
          "output_type": "stream",
          "text": [
            "iteration 0\n"
          ],
          "name": "stdout"
        },
        {
          "output_type": "stream",
          "text": [
            "/usr/local/lib/python3.6/dist-packages/ipykernel_launcher.py:18: DeprecationWarning: Call to deprecated `iter` (Attribute will be removed in 4.0.0, use self.epochs instead).\n"
          ],
          "name": "stderr"
        },
        {
          "output_type": "stream",
          "text": [
            "iteration 1\n",
            "iteration 2\n",
            "iteration 3\n",
            "iteration 4\n",
            "iteration 5\n",
            "iteration 6\n",
            "iteration 7\n",
            "iteration 8\n",
            "iteration 9\n",
            "iteration 10\n",
            "iteration 11\n",
            "iteration 12\n",
            "iteration 13\n",
            "iteration 14\n",
            "iteration 15\n",
            "iteration 16\n",
            "iteration 17\n",
            "iteration 18\n",
            "iteration 19\n",
            "Model Saved\n"
          ],
          "name": "stdout"
        }
      ]
    },
    {
      "metadata": {
        "id": "dyIiZp1eTKfc",
        "colab_type": "code",
        "colab": {}
      },
      "cell_type": "code",
      "source": [
        ""
      ],
      "execution_count": 0,
      "outputs": []
    },
    {
      "metadata": {
        "id": "ZCyrgBreX49M",
        "colab_type": "code",
        "colab": {
          "base_uri": "https://localhost:8080/",
          "height": 124
        },
        "outputId": "eadc6870-c116-41c5-bffe-7d7a9f862d4d"
      },
      "cell_type": "code",
      "source": [
        "from google.colab import drive\n",
        "drive.mount('/content/drive/')"
      ],
      "execution_count": 3,
      "outputs": [
        {
          "output_type": "stream",
          "text": [
            "Go to this URL in a browser: https://accounts.google.com/o/oauth2/auth?client_id=947318989803-6bn6qk8qdgf4n4g3pfee6491hc0brc4i.apps.googleusercontent.com&redirect_uri=urn%3Aietf%3Awg%3Aoauth%3A2.0%3Aoob&scope=email%20https%3A%2F%2Fwww.googleapis.com%2Fauth%2Fdocs.test%20https%3A%2F%2Fwww.googleapis.com%2Fauth%2Fdrive%20https%3A%2F%2Fwww.googleapis.com%2Fauth%2Fdrive.photos.readonly%20https%3A%2F%2Fwww.googleapis.com%2Fauth%2Fpeopleapi.readonly&response_type=code\n",
            "\n",
            "Enter your authorization code:\n",
            "··········\n",
            "Mounted at /content/drive/\n"
          ],
          "name": "stdout"
        }
      ]
    },
    {
      "metadata": {
        "id": "saJ8fZ5HX8_X",
        "colab_type": "code",
        "colab": {
          "base_uri": "https://localhost:8080/",
          "height": 119
        },
        "outputId": "2303d805-ace1-4b50-8574-eb6f087695c9"
      },
      "cell_type": "code",
      "source": [
        "!ls 'drive/My Drive/NewsDataset'"
      ],
      "execution_count": 5,
      "outputs": [
        {
          "output_type": "stream",
          "text": [
            "d2v_article_models_trained\t  d2v.model.wv.vectors.npy\n",
            "d2vforauthor25dim.model\t\t  d2v_title_model_trained\n",
            "d2vfortitle25dim.model\t\t  News Dataset.zip\n",
            "d2vfortitle.model\t\t  News Dataset.zip (Unzipped Files)\n",
            "d2v.model\t\t\t  VectorizedDataframe.csv\n",
            "d2v.model.trainables.syn1neg.npy  VectorizedDataframeTest.csv\n"
          ],
          "name": "stdout"
        }
      ]
    },
    {
      "metadata": {
        "id": "a6QeX0VXYFBw",
        "colab_type": "code",
        "colab": {}
      },
      "cell_type": "code",
      "source": [
        "modelarticle = Doc2Vec.load('drive/My Drive/NewsDataset/d2v.model')\n",
        "modeltitle = Doc2Vec.load('drive/My Drive/NewsDataset/d2vfortitle25dim.model')\n",
        "modelauthor = Doc2Vec.load('drive/My Drive/NewsDataset/d2vforauthor25dim.model')"
      ],
      "execution_count": 0,
      "outputs": []
    },
    {
      "metadata": {
        "id": "juom3VNwdOmF",
        "colab_type": "code",
        "colab": {}
      },
      "cell_type": "code",
      "source": [
        "def vectorConvertorArticle(obj):\n",
        "  obj = str(obj).lower()\n",
        "  data = word_tokenize(obj)\n",
        "  return modelarticle.infer_vector(data)\n",
        "\n",
        "def vectorConvertorTitle(obj):\n",
        "  obj = str(obj).lower()\n",
        "  data = word_tokenize(obj)\n",
        "  return modeltitle.infer_vector(data)\n",
        "\n",
        "def vectorConvertorAuthor(obj):\n",
        "  obj = str(obj).lower()\n",
        "  data = word_tokenize(obj)\n",
        "  return modelauthor.infer_vector(data)"
      ],
      "execution_count": 0,
      "outputs": []
    },
    {
      "metadata": {
        "id": "r7EFWqw7be4p",
        "colab_type": "code",
        "colab": {}
      },
      "cell_type": "code",
      "source": [
        "fileTRAIN['article_vector'] = fileTRAIN['text'].apply(vectorConvertorArticle)\n",
        "fileTRAIN['title_vector'] = fileTRAIN['title'].apply(vectorConvertorTitle)\n",
        "fileTRAIN['author_vector'] = fileTRAIN['author'].apply(vectorConvertorAuthor)"
      ],
      "execution_count": 0,
      "outputs": []
    },
    {
      "metadata": {
        "id": "y8-lTOltfXkp",
        "colab_type": "code",
        "colab": {}
      },
      "cell_type": "code",
      "source": [
        "fileTRAIN.to_csv('VectorizedDataframe.csv')"
      ],
      "execution_count": 0,
      "outputs": []
    },
    {
      "metadata": {
        "id": "5BfQIQesgxAD",
        "colab_type": "code",
        "colab": {}
      },
      "cell_type": "code",
      "source": [
        "fileTEST['article_vector'] = fileTEST['text'].apply(vectorConvertorArticle)\n",
        "fileTEST['title_vector'] = fileTEST['title'].apply(vectorConvertorTitle)\n",
        "fileTEST['author_vector'] = fileTEST['author'].apply(vectorConvertorAuthor)\n"
      ],
      "execution_count": 0,
      "outputs": []
    },
    {
      "metadata": {
        "id": "mgXfT6lviQy6",
        "colab_type": "code",
        "colab": {}
      },
      "cell_type": "code",
      "source": [
        "fileTEST.to_csv('VectorizedDataframeTest.csv')"
      ],
      "execution_count": 0,
      "outputs": []
    },
    {
      "metadata": {
        "id": "55RktU_QuiM2",
        "colab_type": "code",
        "colab": {
          "base_uri": "https://localhost:8080/",
          "height": 289
        },
        "outputId": "c18d7371-5272-4258-f837-2e641c68f5bc"
      },
      "cell_type": "code",
      "source": [
        "fileTRAIN.head()"
      ],
      "execution_count": 8,
      "outputs": [
        {
          "output_type": "execute_result",
          "data": {
            "text/html": [
              "<div>\n",
              "<style scoped>\n",
              "    .dataframe tbody tr th:only-of-type {\n",
              "        vertical-align: middle;\n",
              "    }\n",
              "\n",
              "    .dataframe tbody tr th {\n",
              "        vertical-align: top;\n",
              "    }\n",
              "\n",
              "    .dataframe thead th {\n",
              "        text-align: right;\n",
              "    }\n",
              "</style>\n",
              "<table border=\"1\" class=\"dataframe\">\n",
              "  <thead>\n",
              "    <tr style=\"text-align: right;\">\n",
              "      <th></th>\n",
              "      <th>id</th>\n",
              "      <th>title</th>\n",
              "      <th>author</th>\n",
              "      <th>text</th>\n",
              "      <th>label</th>\n",
              "      <th>article_vector</th>\n",
              "      <th>title_vector</th>\n",
              "      <th>author_vector</th>\n",
              "    </tr>\n",
              "  </thead>\n",
              "  <tbody>\n",
              "    <tr>\n",
              "      <th>0</th>\n",
              "      <td>0</td>\n",
              "      <td>House Dem Aide: We Didn’t Even See Comey’s Let...</td>\n",
              "      <td>Darrell Lucus</td>\n",
              "      <td>House Dem Aide: We Didn’t Even See Comey’s Let...</td>\n",
              "      <td>1</td>\n",
              "      <td>[1.6827588, -0.46717584, 1.1852177, 0.82204306...</td>\n",
              "      <td>[0.0823192, -0.26001894, 0.117337584, 0.270736...</td>\n",
              "      <td>[-0.030947596, -0.014029763, 0.0037813466, 0.0...</td>\n",
              "    </tr>\n",
              "    <tr>\n",
              "      <th>1</th>\n",
              "      <td>1</td>\n",
              "      <td>FLYNN: Hillary Clinton, Big Woman on Campus - ...</td>\n",
              "      <td>Daniel J. Flynn</td>\n",
              "      <td>Ever get the feeling your life circles the rou...</td>\n",
              "      <td>0</td>\n",
              "      <td>[1.0740684, 1.6764545, 0.99277586, 1.2082169, ...</td>\n",
              "      <td>[0.046257842, -0.27694014, -0.1521388, 0.04457...</td>\n",
              "      <td>[-0.010836543, -0.019938458, -0.0074933944, 0....</td>\n",
              "    </tr>\n",
              "    <tr>\n",
              "      <th>2</th>\n",
              "      <td>2</td>\n",
              "      <td>Why the Truth Might Get You Fired</td>\n",
              "      <td>Consortiumnews.com</td>\n",
              "      <td>Why the Truth Might Get You Fired October 29, ...</td>\n",
              "      <td>1</td>\n",
              "      <td>[0.26666343, 0.8204189, -1.8018087, 1.9324995,...</td>\n",
              "      <td>[0.20127644, -0.58856887, -0.026112111, 0.4397...</td>\n",
              "      <td>[-0.01088245, 0.061993875, 0.1172995, -0.02802...</td>\n",
              "    </tr>\n",
              "    <tr>\n",
              "      <th>3</th>\n",
              "      <td>3</td>\n",
              "      <td>15 Civilians Killed In Single US Airstrike Hav...</td>\n",
              "      <td>Jessica Purkiss</td>\n",
              "      <td>Videos 15 Civilians Killed In Single US Airstr...</td>\n",
              "      <td>1</td>\n",
              "      <td>[0.7810626, 0.94763523, -0.32702693, 1.8603771...</td>\n",
              "      <td>[0.3121563, -0.47003347, -0.001772513, 0.29951...</td>\n",
              "      <td>[-0.014858428, -0.022646226, 0.07036754, 0.056...</td>\n",
              "    </tr>\n",
              "    <tr>\n",
              "      <th>4</th>\n",
              "      <td>4</td>\n",
              "      <td>Iranian woman jailed for fictional unpublished...</td>\n",
              "      <td>Howard Portnoy</td>\n",
              "      <td>Print \\nAn Iranian woman has been sentenced to...</td>\n",
              "      <td>1</td>\n",
              "      <td>[0.2852846, -0.41440225, 0.33196193, 0.7258399...</td>\n",
              "      <td>[0.09513792, -0.42330456, 0.3411817, 0.0998370...</td>\n",
              "      <td>[-0.012663558, 0.0027816598, -0.0040997434, -0...</td>\n",
              "    </tr>\n",
              "  </tbody>\n",
              "</table>\n",
              "</div>"
            ],
            "text/plain": [
              "   id                                              title              author  \\\n",
              "0   0  House Dem Aide: We Didn’t Even See Comey’s Let...       Darrell Lucus   \n",
              "1   1  FLYNN: Hillary Clinton, Big Woman on Campus - ...     Daniel J. Flynn   \n",
              "2   2                  Why the Truth Might Get You Fired  Consortiumnews.com   \n",
              "3   3  15 Civilians Killed In Single US Airstrike Hav...     Jessica Purkiss   \n",
              "4   4  Iranian woman jailed for fictional unpublished...      Howard Portnoy   \n",
              "\n",
              "                                                text  label  \\\n",
              "0  House Dem Aide: We Didn’t Even See Comey’s Let...      1   \n",
              "1  Ever get the feeling your life circles the rou...      0   \n",
              "2  Why the Truth Might Get You Fired October 29, ...      1   \n",
              "3  Videos 15 Civilians Killed In Single US Airstr...      1   \n",
              "4  Print \\nAn Iranian woman has been sentenced to...      1   \n",
              "\n",
              "                                      article_vector  \\\n",
              "0  [1.6827588, -0.46717584, 1.1852177, 0.82204306...   \n",
              "1  [1.0740684, 1.6764545, 0.99277586, 1.2082169, ...   \n",
              "2  [0.26666343, 0.8204189, -1.8018087, 1.9324995,...   \n",
              "3  [0.7810626, 0.94763523, -0.32702693, 1.8603771...   \n",
              "4  [0.2852846, -0.41440225, 0.33196193, 0.7258399...   \n",
              "\n",
              "                                        title_vector  \\\n",
              "0  [0.0823192, -0.26001894, 0.117337584, 0.270736...   \n",
              "1  [0.046257842, -0.27694014, -0.1521388, 0.04457...   \n",
              "2  [0.20127644, -0.58856887, -0.026112111, 0.4397...   \n",
              "3  [0.3121563, -0.47003347, -0.001772513, 0.29951...   \n",
              "4  [0.09513792, -0.42330456, 0.3411817, 0.0998370...   \n",
              "\n",
              "                                       author_vector  \n",
              "0  [-0.030947596, -0.014029763, 0.0037813466, 0.0...  \n",
              "1  [-0.010836543, -0.019938458, -0.0074933944, 0....  \n",
              "2  [-0.01088245, 0.061993875, 0.1172995, -0.02802...  \n",
              "3  [-0.014858428, -0.022646226, 0.07036754, 0.056...  \n",
              "4  [-0.012663558, 0.0027816598, -0.0040997434, -0...  "
            ]
          },
          "metadata": {
            "tags": []
          },
          "execution_count": 8
        }
      ]
    },
    {
      "metadata": {
        "id": "_u9ffpNvxrPV",
        "colab_type": "code",
        "colab": {}
      },
      "cell_type": "code",
      "source": [
        "def parenthesesCleaner(line):\n",
        "  \n",
        "  matching = re.match( r'.*([[])(.*)([]])', str(line), re.M|re.I)\n",
        "  if matching:\n",
        "    ret = matching.group(2)\n",
        "    return ret\n",
        "  else:\n",
        "    print(\"Error\")\n",
        "  "
      ],
      "execution_count": 0,
      "outputs": []
    },
    {
      "metadata": {
        "id": "fwC4vB_Y-7PL",
        "colab_type": "code",
        "colab": {}
      },
      "cell_type": "code",
      "source": [
        "x = fileTRAIN['article_vector'].values\n",
        "y = fileTRAIN['title_vector'].values\n",
        "z = fileTRAIN['author_vector'].values\n",
        "xy=np.empty_like(x)"
      ],
      "execution_count": 0,
      "outputs": []
    },
    {
      "metadata": {
        "id": "TMf7KPWWCDkP",
        "colab_type": "code",
        "colab": {}
      },
      "cell_type": "code",
      "source": [
        "for i in range(len(x)):\n",
        "  xy[i] = np.append(x[i],y[i])\n",
        "yz=np.empty_like(xy)\n"
      ],
      "execution_count": 0,
      "outputs": []
    },
    {
      "metadata": {
        "id": "dQbFalroCIqw",
        "colab_type": "code",
        "colab": {}
      },
      "cell_type": "code",
      "source": [
        "for i in range(len(xy)):\n",
        "  yz[i] = np.append(xy[i],z[i])"
      ],
      "execution_count": 0,
      "outputs": []
    },
    {
      "metadata": {
        "id": "dMPffqZdpYpg",
        "colab_type": "code",
        "colab": {}
      },
      "cell_type": "code",
      "source": [
        "vectors = pd.DataFrame(yz,columns=['features'])"
      ],
      "execution_count": 0,
      "outputs": []
    },
    {
      "metadata": {
        "id": "C6ieswWAsyBu",
        "colab_type": "code",
        "colab": {}
      },
      "cell_type": "code",
      "source": [
        "vectors['label'] = fileTRAIN['label']"
      ],
      "execution_count": 0,
      "outputs": []
    },
    {
      "metadata": {
        "id": "R-Ev_-Z0tmxt",
        "colab_type": "code",
        "colab": {}
      },
      "cell_type": "code",
      "source": [
        "features = vectors['features'].values\n",
        "labels = vectors['label'].values"
      ],
      "execution_count": 0,
      "outputs": []
    },
    {
      "metadata": {
        "id": "NS02w2QI56MQ",
        "colab_type": "code",
        "colab": {
          "base_uri": "https://localhost:8080/",
          "height": 34
        },
        "outputId": "b33a18ba-5b54-4b39-a900-c905fe925d73"
      },
      "cell_type": "code",
      "source": [
        "x_train, x_test, y_train, y_test = train_test_split(features,labels, test_size= 0.25, random_state=27)\n"
      ],
      "execution_count": 59,
      "outputs": [
        {
          "output_type": "execute_result",
          "data": {
            "text/plain": [
              "array([0, 0, 1, ..., 0, 0, 0])"
            ]
          },
          "metadata": {
            "tags": []
          },
          "execution_count": 59
        }
      ]
    },
    {
      "metadata": {
        "id": "eNnAsQog9jMg",
        "colab_type": "code",
        "colab": {}
      },
      "cell_type": "code",
      "source": [
        "y_train=y_train.tolist()"
      ],
      "execution_count": 0,
      "outputs": []
    },
    {
      "metadata": {
        "id": "HPCao_Xz7dQw",
        "colab_type": "code",
        "colab": {
          "base_uri": "https://localhost:8080/",
          "height": 34
        },
        "outputId": "bff1bb31-af11-4f7d-ccc1-d0f80c5e5a14"
      },
      "cell_type": "code",
      "source": [
        ""
      ],
      "execution_count": 73,
      "outputs": [
        {
          "output_type": "execute_result",
          "data": {
            "text/plain": [
              "list"
            ]
          },
          "metadata": {
            "tags": []
          },
          "execution_count": 73
        }
      ]
    },
    {
      "metadata": {
        "id": "pNSJbrgt3SWh",
        "colab_type": "code",
        "colab": {}
      },
      "cell_type": "code",
      "source": [
        "x1 = fileTEST['article_vector'].values\n",
        "y1 = fileTEST['title_vector'].values\n",
        "z1 = fileTEST['author_vector'].values\n",
        "xy1=np.empty_like(x1)\n",
        "for i in range(len(x1)):\n",
        "  xy1[i] = np.append(x1[i],y1[i])\n",
        "yz1=np.empty_like(xy1)\n",
        "for i in range(len(xy1)):\n",
        "  yz1[i] = np.append(xy1[i],z1[i])\n",
        "vectors_test = pd.DataFrame(yz1,columns=['features'])\n",
        "features_test = vectors['features'].values\n",
        "labels_test = vectors['label'].values"
      ],
      "execution_count": 0,
      "outputs": []
    },
    {
      "metadata": {
        "id": "VqRxKtBIvDnz",
        "colab_type": "code",
        "colab": {
          "base_uri": "https://localhost:8080/",
          "height": 34
        },
        "outputId": "3cfa2b9a-3dd9-46f7-8c05-1b7ed51490be"
      },
      "cell_type": "code",
      "source": [
        "from sklearn.neural_network import MLPClassifier\n",
        "from sklearn.metrics import accuracy_score\n",
        "from sklearn.model_selection import train_test_split\n",
        "x_train, x_test, y_train, y_test = train_test_split(features,labels, test_size= 0.25, random_state=27)\n",
        "x_train=x_train.tolist()\n",
        "y_train=y_train.tolist()\n",
        "x_test=x_test.tolist()\n",
        "y_test=y_test.tolist()\n",
        "classifier = MLPClassifier(hidden_layer_sizes=(150,75,100), max_iter=500, alpha=0.0001,\n",
        "                     solver='lbfgs', verbose=10,  random_state=21, tol=0.000000001)\n",
        "classifier.fit(x_train, y_train)\n",
        "y_pred = classifier.predict(x_test)\n",
        "accuracy_score(y_test, y_pred)"
      ],
      "execution_count": 74,
      "outputs": [
        {
          "output_type": "execute_result",
          "data": {
            "text/plain": [
              "0.958076923076923"
            ]
          },
          "metadata": {
            "tags": []
          },
          "execution_count": 74
        }
      ]
    },
    {
      "metadata": {
        "id": "kPC0Qgz74dIJ",
        "colab_type": "code",
        "colab": {}
      },
      "cell_type": "code",
      "source": [
        ""
      ],
      "execution_count": 0,
      "outputs": []
    }
  ]
}